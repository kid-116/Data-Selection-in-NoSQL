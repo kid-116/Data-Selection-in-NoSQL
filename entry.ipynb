{
 "cells": [
  {
   "cell_type": "markdown",
   "metadata": {},
   "source": [
    "# Entry Queries\n",
    "Generate queries for different databases for data entry operation"
   ]
  },
  {
   "cell_type": "markdown",
   "metadata": {},
   "source": [
    "### Libraries"
   ]
  },
  {
   "cell_type": "code",
   "execution_count": 2,
   "metadata": {},
   "outputs": [],
   "source": [
    "import pandas as pd\n",
    "import mysql.connector\n",
    "import os\n",
    "import pymongo\n",
    "import redis\n",
    "from redisgraph import Node, Edge, Graph\n",
    "import datetime"
   ]
  },
  {
   "cell_type": "code",
   "execution_count": null,
   "metadata": {},
   "outputs": [],
   "source": [
    "%load_ext dotenv\n",
    "%dotenv"
   ]
  },
  {
   "cell_type": "markdown",
   "metadata": {},
   "source": [
    "## Loading Data"
   ]
  },
  {
   "cell_type": "code",
   "execution_count": 5,
   "metadata": {},
   "outputs": [],
   "source": [
    "def load(folder):\n",
    "    users =  pd.read_csv(f'output/{folder}/users.csv', sep='\\t')\n",
    "    comments = pd.read_csv(f'output/{folder}/comments.csv', sep='\\t')\n",
    "    return users, comments"
   ]
  },
  {
   "cell_type": "code",
   "execution_count": 115,
   "metadata": {},
   "outputs": [],
   "source": [
    "users, comments = load(input())"
   ]
  },
  {
   "cell_type": "markdown",
   "metadata": {},
   "source": [
    "### MySQL"
   ]
  },
  {
   "cell_type": "code",
   "execution_count": null,
   "metadata": {},
   "outputs": [],
   "source": [
    "def sql_insert(query, items, conn):\n",
    "    GROUPS = 10\n",
    "    total = items.shape[0]\n",
    "    group = total // GROUPS\n",
    "    items = list(items.itertuples(name=None, index=None))\n",
    "    for i in range(GROUPS):\n",
    "        cursor.executemany(query, items[group * i : group * (i + 1)])\n",
    "        conn.commit()\n",
    "        print('#', end='')\n",
    "    print()"
   ]
  },
  {
   "cell_type": "code",
   "execution_count": null,
   "metadata": {},
   "outputs": [],
   "source": [
    "try:\n",
    "    conn = mysql.connector.connect(\n",
    "        host='localhost',\n",
    "        database='social',\n",
    "        user=os.getenv('MYSQL_USER'),\n",
    "        password=os.getenv('MYSQL_PASS'),\n",
    "        auth_plugin='mysql_native_password'\n",
    "    )\n",
    "    cursor = conn.cursor()\n",
    "    # Deletion\n",
    "    print(\"Deleting old records\")\n",
    "    cursor.execute(\"DELETE FROM comment;\")\n",
    "    cursor.execute(\"DELETE FROM user;\")\n",
    "    conn.commit()\n",
    "    # Insertion\n",
    "    # user\n",
    "    print(\"Inserting users\")\n",
    "    query = \"INSERT INTO user VALUES(%s, %s, %s, %s)\"\n",
    "    sql_insert(query, users, conn)\n",
    "    # comment\n",
    "    print(\"Inserting comments\")\n",
    "    query = \"INSERT INTO comment VALUES(%s, %s, %s, %s)\"\n",
    "    sql_insert(query, comments, conn)\n",
    "    conn.close()\n",
    "except mysql.connector.Error as error:\n",
    "    print(f\"Failed to connect to MySQL: {error}\")"
   ]
  },
  {
   "cell_type": "markdown",
   "metadata": {},
   "source": [
    "### MongoDB"
   ]
  },
  {
   "cell_type": "code",
   "execution_count": null,
   "metadata": {},
   "outputs": [],
   "source": [
    "def mongo_insert(col, items):\n",
    "    GROUPS = 10\n",
    "    total = len(items)\n",
    "    group = total // GROUPS\n",
    "    for i in range(GROUPS):\n",
    "        col.insert_many(list(items[group * i : group * (i + 1)].T.to_dict().values()))\n",
    "        print('#', end='')\n",
    "    print()"
   ]
  },
  {
   "cell_type": "code",
   "execution_count": null,
   "metadata": {},
   "outputs": [],
   "source": [
    "client = pymongo.MongoClient('mongodb://localhost:27017/')\n",
    "db = client['test']\n",
    "\n",
    "user_col = db['user']\n",
    "comment_col = db['comment']\n",
    "\n",
    "users = users.rename(columns={'user_id': '_id'})\n",
    "comments = comments.rename(columns={'comment_id': '_id'})\n",
    "\n",
    "print(\"Deleting old records\")\n",
    "user_col.delete_many({})\n",
    "comment_col.delete_many({})\n",
    "\n",
    "print(\"Inserting users\")\n",
    "mongo_insert(user_col, users)\n",
    "print(\"Inserting comments\")\n",
    "mongo_insert(comment_col, comments)\n",
    "\n",
    "users = users.rename(columns={'_id': 'user_id'})\n",
    "comments = comments.rename(columns={'_id': 'comment_id'})"
   ]
  },
  {
   "cell_type": "markdown",
   "metadata": {},
   "source": [
    "### Redis"
   ]
  },
  {
   "cell_type": "code",
   "execution_count": 118,
   "metadata": {},
   "outputs": [],
   "source": [
    "def redis_insert(label, items, graph):\n",
    "    GROUPS = 10\n",
    "    total = len(items)\n",
    "    group = total // GROUPS\n",
    "    for i in range(GROUPS):\n",
    "        for item in list(items[group * i : group * (i + 1)].T.to_dict().values()):\n",
    "            graph.add_node(Node(label=label, properties=item))\n",
    "        print('#', end='')\n",
    "    print()\n",
    "    query = f\"\"\"\n",
    "        MATCH (t:{label})\n",
    "        WITH t.{label}_id as id, collect(t) AS nodes \n",
    "        WHERE size(nodes) >  1\n",
    "        UNWIND nodes[1..] AS node\n",
    "        DELETE node\n",
    "    \"\"\"\n",
    "    result = graph.query(query)\n",
    "    result.pretty_print()\n",
    "    print()\n",
    "\n",
    "def redis_rel(graph, comments):\n",
    "    GROUPS = 10\n",
    "    total = len(comments)\n",
    "    group = total // GROUPS\n",
    "    for i in range(GROUPS):\n",
    "        for comment in list(comments[group * i : group * (i + 1)].T.to_dict().values()):\n",
    "            params = {\n",
    "                'u_id': comment['user_id'],\n",
    "                'c_id': comment['comment_id']\n",
    "            }\n",
    "            query = \"\"\"\n",
    "                MATCH (u:user {user_id:$u_id})\n",
    "                MATCH (c:comment {comment_id:$c_id})\n",
    "                CREATE (u)-[:wrote]->(c)\n",
    "            \"\"\"\n",
    "            graph.query(query, params)\n",
    "        print('#', end='')\n",
    "    print()\n",
    "        "
   ]
  },
  {
   "cell_type": "code",
   "execution_count": 119,
   "metadata": {},
   "outputs": [
    {
     "name": "stdout",
     "output_type": "stream",
     "text": [
      "Inserting users\n",
      "##########\n",
      "Cached execution 0.0\n",
      "internal execution time 167.11025\n",
      "\n",
      "Inserting comments\n",
      "##########\n",
      "Cached execution 0.0\n",
      "internal execution time 0.363408\n",
      "\n",
      "Creating relations\n",
      "##########\n"
     ]
    }
   ],
   "source": [
    "SOCIAL = 'social'\n",
    "\n",
    "client = redis.Redis(\n",
    "    host='localhost',\n",
    "    port=6379,\n",
    ")\n",
    "graph = Graph(SOCIAL, client)\n",
    "\n",
    "try:\n",
    "    graph.delete()\n",
    "except:\n",
    "    pass\n",
    "\n",
    "print(\"Inserting users\")\n",
    "redis_insert('user', users, graph)\n",
    "print(\"Inserting comments\")\n",
    "redis_insert('comment', comments, graph)\n",
    "\n",
    "graph.commit()\n",
    "\n",
    "print(\"Creating relations\")\n",
    "redis_rel(graph, comments)"
   ]
  },
  {
   "cell_type": "code",
   "execution_count": 121,
   "metadata": {},
   "outputs": [
    {
     "name": "stdout",
     "output_type": "stream",
     "text": [
      "1000\n"
     ]
    }
   ],
   "source": [
    "client = redis.Redis(\n",
    "    host='localhost',\n",
    "    port=6379,\n",
    ")\n",
    "graph = Graph('social', client)\n",
    "\n",
    "query = \"\"\"\n",
    "    MATCH (u:user)\n",
    "    RETURN u\n",
    "\"\"\"\n",
    "# query = \"\"\"\n",
    "#     MATCH (u:user)\n",
    "#     RETURN u\n",
    "# \"\"\"\n",
    "result = len(graph.query(query).result_set)\n",
    "print(result)\n",
    "\n",
    "# result = graph.query(query)\n",
    "# result.pretty_print()"
   ]
  }
 ],
 "metadata": {
  "interpreter": {
   "hash": "945d9b4b4e821cdfb190d8b9764f998578a4b0e911ae9f184bb6b843a583816f"
  },
  "kernelspec": {
   "display_name": "Python 3.9.10 64-bit (windows store)",
   "language": "python",
   "name": "python3"
  },
  "language_info": {
   "codemirror_mode": {
    "name": "ipython",
    "version": 3
   },
   "file_extension": ".py",
   "mimetype": "text/x-python",
   "name": "python",
   "nbconvert_exporter": "python",
   "pygments_lexer": "ipython3",
   "version": "3.8.10"
  },
  "orig_nbformat": 4
 },
 "nbformat": 4,
 "nbformat_minor": 2
}
