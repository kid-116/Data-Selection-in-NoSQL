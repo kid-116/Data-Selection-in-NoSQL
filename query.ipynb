{
 "cells": [
  {
   "cell_type": "markdown",
   "metadata": {},
   "source": [
    "# Querying\n",
    "Record times to execute queries in different databases of variable sizes"
   ]
  },
  {
   "cell_type": "markdown",
   "metadata": {},
   "source": [
    "### Libraries"
   ]
  },
  {
   "cell_type": "code",
   "execution_count": 2,
   "metadata": {},
   "outputs": [],
   "source": [
    "import pandas as pd\n",
    "import mysql.connector\n",
    "import os\n",
    "import time\n",
    "import pymongo\n",
    "import datetime"
   ]
  },
  {
   "cell_type": "code",
   "execution_count": 3,
   "metadata": {},
   "outputs": [],
   "source": [
    "from insert import ins"
   ]
  },
  {
   "cell_type": "code",
   "execution_count": 4,
   "metadata": {},
   "outputs": [],
   "source": [
    "%load_ext dotenv\n",
    "%dotenv"
   ]
  },
  {
   "cell_type": "markdown",
   "metadata": {},
   "source": [
    "### Some Constants"
   ]
  },
  {
   "cell_type": "code",
   "execution_count": 5,
   "metadata": {},
   "outputs": [],
   "source": [
    "MYSQL = \"MySQL\"\n",
    "MONGO_DB = 'MongoDB'"
   ]
  },
  {
   "cell_type": "code",
   "execution_count": 6,
   "metadata": {},
   "outputs": [],
   "source": [
    "THOUSAND = 'thousand'\n",
    "LAKH = 'lakh'\n",
    "FIVE_MILLION = 'five_mil'"
   ]
  },
  {
   "cell_type": "markdown",
   "metadata": {},
   "source": [
    "### Query"
   ]
  },
  {
   "cell_type": "code",
   "execution_count": 7,
   "metadata": {},
   "outputs": [],
   "source": [
    "def sql_query(query, cursor):\n",
    "    begin = time.time()\n",
    "    cursor.execute(query)\n",
    "    cursor.fetchall()\n",
    "    end = time.time()\n",
    "    return end - begin\n",
    "\n",
    "def mongo_query(db, col, query):\n",
    "    begin = time.time()\n",
    "    db[col].aggregate(query)\n",
    "    end = time.time()\n",
    "    return end - begin"
   ]
  },
  {
   "cell_type": "code",
   "execution_count": 49,
   "metadata": {},
   "outputs": [],
   "source": [
    "def exp(size):\n",
    "    ins(size)\n",
    "    obs = {}\n",
    "    # MySQL\n",
    "    print()\n",
    "    obs[MYSQL] = {}\n",
    "    try:\n",
    "        print(\"Connecting to MySQL\")\n",
    "        conn = mysql.connector.connect(\n",
    "            host='localhost',\n",
    "            database='social',\n",
    "            user=os.getenv('MYSQL_USER'),\n",
    "            password=os.getenv('MYSQL_PASS'),\n",
    "            auth_plugin='mysql_native_password'\n",
    "        )\n",
    "        cursor = conn.cursor()\n",
    "        print(\"Executing MySQL queries\")\n",
    "        # (1)\n",
    "        query = \"\"\"\n",
    "            SELECT name, surname \n",
    "            FROM user JOIN comment USING (user_id);\n",
    "        \"\"\"\n",
    "        obs[MYSQL][1] = sql_query(query, cursor)\n",
    "        # (2)\n",
    "        query = \"\"\"\n",
    "            SELECT * FROM user\n",
    "            JOIN comment USING (user_id)\n",
    "            WHERE text LIKE \"%today%\";\n",
    "        \"\"\"\n",
    "        obs[MYSQL][2] = sql_query(query, cursor)\n",
    "        # (3)\n",
    "        query = \"\"\"\n",
    "            SELECT\n",
    "                name,\n",
    "                surname,\n",
    "                created_at\n",
    "            FROM user JOIN comment USING (user_id)\n",
    "            WHERE\n",
    "                created_at >= CURRENT_DATE AND\n",
    "                created_at < DATE_ADD(CURRENT_DATE, INTERVAL 1 DAY);\n",
    "        \"\"\"\n",
    "        obs[MYSQL][3] = sql_query(query, cursor)\n",
    "        conn.close()\n",
    "    except mysql.connector.Error as error:\n",
    "        print(f\"Failed to connect to MySQL: {error}\")\n",
    "    # MongoDB\n",
    "    print()\n",
    "    obs[MONGO_DB] = {}\n",
    "    client = pymongo.MongoClient('mongodb://localhost:27017/')\n",
    "    db = client['test']\n",
    "    print(\"Executing MongoDB queries\")\n",
    "    # (1)\n",
    "    query = [\n",
    "        {\n",
    "            '$lookup': {\n",
    "                'from': 'comment',\n",
    "                'localField': '_id',\n",
    "                'foreignField': 'user_id',\n",
    "                'as': 'comments',\n",
    "            },\n",
    "        },\n",
    "        {\n",
    "            '$match': {\n",
    "                'comments': { '$not': { '$size': 0 } }\n",
    "            }\n",
    "        }\n",
    "    ]\n",
    "    obs[MONGO_DB][1] = mongo_query(db, 'user', query)\n",
    "    # (2)\n",
    "    query = [\n",
    "        {\n",
    "            '$match': {\n",
    "                'text': { '$regex': 'today' }\n",
    "            },\n",
    "        },\n",
    "        {\n",
    "            '$lookup': {\n",
    "                'from': 'user',\n",
    "                'localField': 'user_id',\n",
    "                'foreignField': '_id',\n",
    "                'as': 'user',\n",
    "            }\n",
    "        }\n",
    "    ]\n",
    "    obs[MONGO_DB][2] = mongo_query(db, 'comment', query)\n",
    "    # (3)\n",
    "    query = [\n",
    "        {\n",
    "            '$match': {\n",
    "                'created_at': { '$regex': f'^{datetime.date.today()}' }\n",
    "            },\n",
    "        },\n",
    "        {\n",
    "            '$lookup': {\n",
    "                'from': 'user',\n",
    "                'localField': 'user_id',\n",
    "                'foreignField': '_id',\n",
    "                'as': 'author',\n",
    "            }\n",
    "        }\n",
    "    ]\n",
    "    obs[MONGO_DB][3] = mongo_query(db, 'comment', query)\n",
    "    # Redis\n",
    "    print()\n",
    "    print(obs)"
   ]
  },
  {
   "cell_type": "markdown",
   "metadata": {},
   "source": [
    "## Thousand"
   ]
  },
  {
   "cell_type": "code",
   "execution_count": 50,
   "metadata": {},
   "outputs": [
    {
     "name": "stdout",
     "output_type": "stream",
     "text": [
      "Loading thousand\n",
      "\n",
      "MySQL\n",
      "----------\n",
      "Deleting old records\n",
      "Inserting users\n",
      "##########\n",
      "Inserting comments\n",
      "##########\n",
      "\n",
      "MongoDB\n",
      "----------\n",
      "Deleting old records\n",
      "Inserting users\n",
      "####################\n",
      "Inserting comments\n",
      "####################\n",
      "\n",
      "Connecting to MySQL\n",
      "Executing MySQL queries\n",
      "\n",
      "Executing MongoDB queries\n",
      "\n",
      "{'MySQL': {1: 0.008970975875854492, 2: 0.001995563507080078, 3: 0.00099945068359375}, 'MongoDB': {1: 0.10402965545654297, 2: 0.0009958744049072266, 3: 0.0020084381103515625}}\n"
     ]
    }
   ],
   "source": [
    "exp(THOUSAND)"
   ]
  },
  {
   "cell_type": "markdown",
   "metadata": {},
   "source": [
    "## Lakh"
   ]
  },
  {
   "cell_type": "code",
   "execution_count": 51,
   "metadata": {},
   "outputs": [
    {
     "name": "stdout",
     "output_type": "stream",
     "text": [
      "Loading lakh\n",
      "\n",
      "MySQL\n",
      "----------\n",
      "Deleting old records\n",
      "Inserting users\n",
      "##########\n",
      "Inserting comments\n",
      "##########\n",
      "\n",
      "MongoDB\n",
      "----------\n",
      "Deleting old records\n",
      "Inserting users\n",
      "####################\n",
      "Inserting comments\n",
      "####################\n",
      "\n",
      "Connecting to MySQL\n",
      "Executing MySQL queries\n",
      "\n",
      "Executing MongoDB queries\n",
      "\n",
      "{'MySQL': {1: 0.6710329055786133, 2: 0.2006669044494629, 3: 0.09599971771240234}, 'MongoDB': {1: 6.574007511138916, 2: 0.061994075775146484, 3: 0.05903172492980957}}\n"
     ]
    }
   ],
   "source": [
    "exp(LAKH)"
   ]
  },
  {
   "cell_type": "markdown",
   "metadata": {},
   "source": [
    "## Five Million"
   ]
  },
  {
   "cell_type": "code",
   "execution_count": null,
   "metadata": {},
   "outputs": [
    {
     "name": "stdout",
     "output_type": "stream",
     "text": [
      "Loading five_mil\n",
      "Connecting to MySQL\n",
      "Executing MySQL queries\n",
      "{'MySQL': {1: 34.89011740684509, 2: 8.41347074508667, 3: 5.430591106414795}}\n"
     ]
    }
   ],
   "source": [
    "exp(FIVE_MILLION)"
   ]
  }
 ],
 "metadata": {
  "interpreter": {
   "hash": "945d9b4b4e821cdfb190d8b9764f998578a4b0e911ae9f184bb6b843a583816f"
  },
  "kernelspec": {
   "display_name": "Python 3.9.10 64-bit (windows store)",
   "language": "python",
   "name": "python3"
  },
  "language_info": {
   "codemirror_mode": {
    "name": "ipython",
    "version": 3
   },
   "file_extension": ".py",
   "mimetype": "text/x-python",
   "name": "python",
   "nbconvert_exporter": "python",
   "pygments_lexer": "ipython3",
   "version": "3.9.12"
  },
  "orig_nbformat": 4
 },
 "nbformat": 4,
 "nbformat_minor": 2
}
