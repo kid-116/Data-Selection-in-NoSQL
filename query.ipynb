{
 "cells": [
  {
   "cell_type": "markdown",
   "metadata": {},
   "source": [
    "# Querying\n",
    "Record times to execute queries in different databases of variable sizes"
   ]
  },
  {
   "cell_type": "markdown",
   "metadata": {},
   "source": [
    "### Libraries"
   ]
  },
  {
   "cell_type": "code",
   "execution_count": 1,
   "metadata": {},
   "outputs": [],
   "source": [
    "import pandas as pd\n",
    "import mysql.connector\n",
    "import os\n",
    "import time\n",
    "import pymongo\n",
    "import datetime\n",
    "import redis\n",
    "from redisgraph import Graph\n",
    "import numpy as np\n",
    "import matplotlib.pyplot as plt"
   ]
  },
  {
   "cell_type": "code",
   "execution_count": 2,
   "metadata": {},
   "outputs": [],
   "source": [
    "from insert import ins"
   ]
  },
  {
   "cell_type": "code",
   "execution_count": 3,
   "metadata": {},
   "outputs": [],
   "source": [
    "%load_ext dotenv\n",
    "%dotenv"
   ]
  },
  {
   "cell_type": "markdown",
   "metadata": {},
   "source": [
    "### Some Constants"
   ]
  },
  {
   "cell_type": "code",
   "execution_count": 4,
   "metadata": {},
   "outputs": [],
   "source": [
    "MYSQL = \"MySQL\"\n",
    "MONGO_DB = 'MongoDB'\n",
    "REDIS = 'Redis'"
   ]
  },
  {
   "cell_type": "code",
   "execution_count": 5,
   "metadata": {},
   "outputs": [],
   "source": [
    "HUNDRED = 'hundred'\n",
    "FIVE_HUNDRED = 'five_hundred'\n",
    "THOUSAND = 'thousand'\n",
    "TEN_THOUSAND = 'ten_thousand'\n",
    "LAKH = 'lakh'\n",
    "FIVE_MILLION = 'five_mil'"
   ]
  },
  {
   "cell_type": "markdown",
   "metadata": {},
   "source": [
    "### Query"
   ]
  },
  {
   "cell_type": "code",
   "execution_count": 6,
   "metadata": {},
   "outputs": [],
   "source": [
    "def sql_query(query, cursor):\n",
    "    begin = time.time()\n",
    "    cursor.execute(query)\n",
    "    cursor.fetchall()\n",
    "    end = time.time()\n",
    "    return end - begin\n",
    "\n",
    "def mongo_query(db, col, query):\n",
    "    begin = time.time()\n",
    "    db[col].aggregate(query)\n",
    "    end = time.time()\n",
    "    return end - begin\n",
    "\n",
    "def redis_query(graph, query):\n",
    "    begin = time.time()\n",
    "    graph.query(query)\n",
    "    end = time.time()\n",
    "    return end - begin"
   ]
  },
  {
   "cell_type": "code",
   "execution_count": 7,
   "metadata": {},
   "outputs": [],
   "source": [
    "def exp(size, insert=True):\n",
    "    if insert:\n",
    "        ins(size)\n",
    "    obs = {}\n",
    "    # MySQL\n",
    "    obs[MYSQL] = {}\n",
    "    try:\n",
    "        conn = mysql.connector.connect(\n",
    "            host='localhost',\n",
    "            database='social',\n",
    "            user=os.getenv('MYSQL_USER'),\n",
    "            password=os.getenv('MYSQL_PASS'),\n",
    "            auth_plugin='mysql_native_password'\n",
    "        )\n",
    "        cursor = conn.cursor()\n",
    "        # (1)\n",
    "        query = \"\"\"\n",
    "            SELECT name, surname \n",
    "            FROM user JOIN comment USING (user_id);\n",
    "        \"\"\"\n",
    "        obs[MYSQL][1] = sql_query(query, cursor)\n",
    "        # (2)\n",
    "        query = \"\"\"\n",
    "            SELECT * FROM user\n",
    "            JOIN comment USING (user_id)\n",
    "            WHERE text LIKE \"%today%\";\n",
    "        \"\"\"\n",
    "        obs[MYSQL][2] = sql_query(query, cursor)\n",
    "        # (3)\n",
    "        query = \"\"\"\n",
    "            SELECT\n",
    "                name,\n",
    "                surname,\n",
    "                created_at\n",
    "            FROM user JOIN comment USING (user_id)\n",
    "            WHERE\n",
    "                created_at >= CURRENT_DATE AND\n",
    "                created_at < DATE_ADD(CURRENT_DATE, INTERVAL 1 DAY);\n",
    "        \"\"\"\n",
    "        obs[MYSQL][3] = sql_query(query, cursor)\n",
    "        conn.close()\n",
    "    except mysql.connector.Error as error:\n",
    "        print(f\"Failed to connect to MySQL: {error}\")\n",
    "    # MongoDB\n",
    "    obs[MONGO_DB] = {}\n",
    "    client = pymongo.MongoClient('mongodb://localhost:27017/')\n",
    "    db = client['test']\n",
    "    # (1)\n",
    "    query = [\n",
    "        {\n",
    "            '$lookup': {\n",
    "                'from': 'comment',\n",
    "                'localField': '_id',\n",
    "                'foreignField': 'user_id',\n",
    "                'as': 'comments',\n",
    "            },\n",
    "        },\n",
    "        {\n",
    "            '$match': {\n",
    "                'comments': { '$not': { '$size': 0 } }\n",
    "            }\n",
    "        }\n",
    "    ]\n",
    "    obs[MONGO_DB][1] = mongo_query(db, 'user', query)\n",
    "    # (2)\n",
    "    query = [\n",
    "        {\n",
    "            '$match': {\n",
    "                'text': { '$regex': 'today' }\n",
    "            },\n",
    "        },\n",
    "        {\n",
    "            '$lookup': {\n",
    "                'from': 'user',\n",
    "                'localField': 'user_id',\n",
    "                'foreignField': '_id',\n",
    "                'as': 'user',\n",
    "            }\n",
    "        }\n",
    "    ]\n",
    "    obs[MONGO_DB][2] = mongo_query(db, 'comment', query)\n",
    "    # (3)\n",
    "    query = [\n",
    "        {\n",
    "            '$match': {\n",
    "                'created_at': { '$regex': f'^{datetime.date.today()}' }\n",
    "            },\n",
    "        },\n",
    "        {\n",
    "            '$lookup': {\n",
    "                'from': 'user',\n",
    "                'localField': 'user_id',\n",
    "                'foreignField': '_id',\n",
    "                'as': 'author',\n",
    "            }\n",
    "        }\n",
    "    ]\n",
    "    obs[MONGO_DB][3] = mongo_query(db, 'comment', query)\n",
    "    # Redis\n",
    "    SOCIAL = 'social'\n",
    "    obs[REDIS] = {}\n",
    "    client = redis.Redis(\n",
    "        host='localhost',\n",
    "        port=6379,\n",
    "    )\n",
    "    graph = Graph(SOCIAL, client)\n",
    "    # (1)\n",
    "    query = \"\"\"\n",
    "        MATCH r = (u:user)-[:wrote]->(c:comment)\n",
    "        RETURN r\n",
    "    \"\"\"\n",
    "    obs[REDIS][1] = redis_query(graph, query)\n",
    "    # (2)\n",
    "    query = \"\"\"\n",
    "        MATCH r = (u:user)-[:wrote]->(c:comment)\n",
    "        WHERE c.text CONTAINS 'today'\n",
    "        RETURN r\n",
    "    \"\"\"\n",
    "    obs[REDIS][2] = redis_query(graph, query)\n",
    "    # (3)\n",
    "    query = f\"\"\"\n",
    "        MATCH r = (u:user)-[:wrote]->(c:comment)\n",
    "        WHERE c.created_at STARTS WITH '%s'\n",
    "        RETURN r\n",
    "    \"\"\" % (f'{datetime.date.today()}')\n",
    "    obs[REDIS][3] = redis_query(graph, query)\n",
    "    print(obs)\n",
    "    return obs"
   ]
  },
  {
   "cell_type": "markdown",
   "metadata": {},
   "source": [
    "## Experiment"
   ]
  },
  {
   "cell_type": "code",
   "execution_count": 17,
   "metadata": {},
   "outputs": [
    {
     "name": "stdout",
     "output_type": "stream",
     "text": [
      "\n",
      "hundred\n",
      "\n",
      "MySQL\n",
      "----------\n",
      "Deleting old records\n",
      "Inserting users\n",
      "##########\n",
      "Inserting comments\n",
      "##########\n",
      "\n",
      "MongoDB\n",
      "----------\n",
      "Deleting old records\n",
      "Inserting users\n",
      "####################\n",
      "Inserting comments\n",
      "####################\n",
      "\n",
      "Redis\n",
      "----------\n",
      "Inserting users\n",
      "##########\n",
      "Inserting comments\n",
      "##########\n",
      "Creating relations\n",
      "##########\n",
      "{'MySQL': {1: 0.0039031505584716797, 2: 0.0015053749084472656, 3: 0.0013599395751953125}, 'MongoDB': {1: 0.041106462478637695, 2: 0.0014641284942626953, 3: 0.0008251667022705078}, 'Redis': {1: 0.005754709243774414, 2: 0.0005865097045898438, 3: 0.0005817413330078125}}\n",
      "{'MySQL': {1: 0.001218557357788086, 2: 0.0004210472106933594, 3: 0.0002951622009277344}, 'MongoDB': {1: 0.009066104888916016, 2: 0.0005085468292236328, 3: 0.0004322528839111328}, 'Redis': {1: 0.0033941268920898438, 2: 0.0003445148468017578, 3: 0.00035762786865234375}}\n",
      "\n",
      "lakh\n",
      "\n",
      "MySQL\n",
      "----------\n",
      "Deleting old records\n",
      "Inserting users\n",
      "##########\n",
      "Inserting comments\n",
      "##########\n",
      "\n",
      "MongoDB\n",
      "----------\n",
      "Deleting old records\n",
      "Inserting users\n",
      "####################\n",
      "Inserting comments\n",
      "####################\n",
      "\n",
      "Redis\n",
      "----------\n",
      "Inserting users\n",
      "##########\n",
      "Inserting comments\n",
      "##########\n",
      "Creating relations\n",
      "##########\n",
      "{'MySQL': {1: 0.5523905754089355, 2: 0.07763028144836426, 3: 0.04170680046081543}, 'MongoDB': {1: 5.126673221588135, 2: 0.046630144119262695, 3: 0.08033466339111328}, 'Redis': {1: 3.158658981323242, 2: 0.034035444259643555, 3: 0.031670331954956055}}\n",
      "{'MySQL': {1: 0.5229933261871338, 2: 0.6053698062896729, 3: 0.0467529296875}, 'MongoDB': {1: 4.8563432693481445, 2: 0.04808664321899414, 3: 0.043874263763427734}, 'Redis': {1: 3.110260486602783, 2: 0.036109209060668945, 3: 0.05787038803100586}}\n"
     ]
    }
   ],
   "source": [
    "result = {}\n",
    "\n",
    "SIZES = [\n",
    "    HUNDRED,\n",
    "    LAKH\n",
    "]\n",
    "\n",
    "for size in SIZES:\n",
    "    print()\n",
    "    print(size)\n",
    "    exp(size)\n",
    "    result[size] = exp(size, False)"
   ]
  },
  {
   "cell_type": "code",
   "execution_count": 18,
   "metadata": {},
   "outputs": [
    {
     "name": "stdout",
     "output_type": "stream",
     "text": [
      "{'hundred': {'MySQL': {1: 0.001218557357788086, 2: 0.0004210472106933594, 3: 0.0002951622009277344}, 'MongoDB': {1: 0.009066104888916016, 2: 0.0005085468292236328, 3: 0.0004322528839111328}, 'Redis': {1: 0.0033941268920898438, 2: 0.0003445148468017578, 3: 0.00035762786865234375}}, 'lakh': {'MySQL': {1: 0.5229933261871338, 2: 0.6053698062896729, 3: 0.0467529296875}, 'MongoDB': {1: 4.8563432693481445, 2: 0.04808664321899414, 3: 0.043874263763427734}, 'Redis': {1: 3.110260486602783, 2: 0.036109209060668945, 3: 0.05787038803100586}}}\n"
     ]
    }
   ],
   "source": [
    "print(result)"
   ]
  }
 ],
 "metadata": {
  "interpreter": {
   "hash": "945d9b4b4e821cdfb190d8b9764f998578a4b0e911ae9f184bb6b843a583816f"
  },
  "kernelspec": {
   "display_name": "Python 3.9.10 64-bit (windows store)",
   "language": "python",
   "name": "python3"
  },
  "language_info": {
   "codemirror_mode": {
    "name": "ipython",
    "version": 3
   },
   "file_extension": ".py",
   "mimetype": "text/x-python",
   "name": "python",
   "nbconvert_exporter": "python",
   "pygments_lexer": "ipython3",
   "version": "3.8.10"
  },
  "orig_nbformat": 4
 },
 "nbformat": 4,
 "nbformat_minor": 2
}
