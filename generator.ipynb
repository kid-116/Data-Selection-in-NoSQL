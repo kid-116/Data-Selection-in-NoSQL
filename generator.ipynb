{
 "cells": [
  {
   "cell_type": "markdown",
   "metadata": {},
   "source": [
    "# Data Generator\n",
    "Generate random data of required size for the following database schema in `.csv` format\n",
    "\n",
    "![](./schema.png)"
   ]
  },
  {
   "cell_type": "markdown",
   "metadata": {},
   "source": [
    "## Libraries"
   ]
  },
  {
   "cell_type": "code",
   "execution_count": 39,
   "metadata": {},
   "outputs": [],
   "source": [
    "import pandas as pd\n",
    "import random\n",
    "from datetime import datetime, timedelta\n",
    "import os"
   ]
  },
  {
   "cell_type": "markdown",
   "metadata": {},
   "source": [
    "## Dictionaries"
   ]
  },
  {
   "cell_type": "markdown",
   "metadata": {},
   "source": [
    "### Cleaning `words.txt`"
   ]
  },
  {
   "cell_type": "code",
   "execution_count": null,
   "metadata": {},
   "outputs": [],
   "source": [
    "# with open('./data/words.txt') as words:\n",
    "#     for word in words.readlines():\n",
    "#         word = word.strip()\n",
    "#         print(word)\n",
    "# words.close()"
   ]
  },
  {
   "cell_type": "markdown",
   "metadata": {},
   "source": [
    "### Load Data Dictionaries"
   ]
  },
  {
   "cell_type": "code",
   "execution_count": 41,
   "metadata": {},
   "outputs": [],
   "source": [
    "def load(path):\n",
    "    with open(path) as file:\n",
    "        entities = list(file.read().split('\\n'))\n",
    "    file.close()\n",
    "    return entities"
   ]
  },
  {
   "cell_type": "code",
   "execution_count": 42,
   "metadata": {},
   "outputs": [],
   "source": [
    "names = load('./data/names.txt')\n",
    "surnames = load('./data/surnames.txt')\n",
    "words = load('./data/words.txt')"
   ]
  },
  {
   "cell_type": "markdown",
   "metadata": {},
   "source": [
    "## Generate"
   ]
  },
  {
   "cell_type": "markdown",
   "metadata": {},
   "source": [
    "### Helpers"
   ]
  },
  {
   "cell_type": "code",
   "execution_count": 44,
   "metadata": {},
   "outputs": [],
   "source": [
    "def generate_password():\n",
    "    ALLOWED_CHARS = list('abcdefghijklmnopqrstuvwxyzABCDEFGHIJKLMNOPQRSTUVWXYZ0123456789')\n",
    "    password = ''.join(random.choice(ALLOWED_CHARS) for _ in range(16))\n",
    "    return password"
   ]
  },
  {
   "cell_type": "code",
   "execution_count": 45,
   "metadata": {},
   "outputs": [],
   "source": [
    "def generate_users(N):\n",
    "    user_id = []\n",
    "    name = []\n",
    "    surname = []\n",
    "    identity_card = []\n",
    "\n",
    "    for i in range(1, N+1):\n",
    "        user_id.append(i)\n",
    "        name.append(random.choice(names))\n",
    "        surname.append(random.choice(surnames))\n",
    "        identity_card.append(generate_password())\n",
    "\n",
    "    data = {\n",
    "        'user_id': user_id,\n",
    "        'name': name,\n",
    "        'surname': surname,\n",
    "        'identity_card': identity_card\n",
    "    }\n",
    "    users = pd.DataFrame(data)\n",
    "\n",
    "    return users"
   ]
  },
  {
   "cell_type": "code",
   "execution_count": 46,
   "metadata": {},
   "outputs": [],
   "source": [
    "SECONDS_IN_YEAR = 365 * 24 * 60 * 60"
   ]
  },
  {
   "cell_type": "code",
   "execution_count": 47,
   "metadata": {},
   "outputs": [],
   "source": [
    "def generate_date():\n",
    "    start = datetime(2022, 1, 1, 0, 0, 0)\n",
    "    return str(start + timedelta(seconds=random.randint(0, SECONDS_IN_YEAR)))"
   ]
  },
  {
   "cell_type": "code",
   "execution_count": 53,
   "metadata": {},
   "outputs": [],
   "source": [
    "# DATETIME - YYYY-MM-DD HH:MM:SS\n",
    "# INSERT INTO comment VALUES\n",
    "# (1, 'today hello', '2021-12-01 12:00:00', NULL);\n",
    "\n",
    "def generate_comments(N):\n",
    "    comment_id = []\n",
    "    text = []\n",
    "    created_at = []\n",
    "    user_id = []\n",
    "\n",
    "    for i in range(1, N+1):\n",
    "        comment_id.append(i)\n",
    "        text.append(' '.join(random.choice(words) for _ in range(8)))\n",
    "        created_at.append(generate_date())\n",
    "        user_id.append(random.randint(1, N))\n",
    "\n",
    "    data = {\n",
    "        'comment_id': comment_id,\n",
    "        'text': text,\n",
    "        'created_at': created_at,\n",
    "        'user_id': user_id\n",
    "    }\n",
    "    comments = pd.DataFrame(data)\n",
    "\n",
    "    return comments"
   ]
  },
  {
   "cell_type": "code",
   "execution_count": 49,
   "metadata": {},
   "outputs": [],
   "source": [
    "def save(df, path):\n",
    "    df.to_csv(path, header=True, index=False, sep='\\t')"
   ]
  },
  {
   "cell_type": "code",
   "execution_count": 62,
   "metadata": {},
   "outputs": [],
   "source": [
    "N = int(input())\n",
    "OUTPUT_FOLDER = input()\n",
    "\n",
    "users = generate_users(N)\n",
    "comments = generate_comments(N)\n",
    "\n",
    "# Saving\n",
    "BASE_PATH = f'./output/{OUTPUT_FOLDER}'\n",
    "os.makedirs(BASE_PATH, exist_ok=True)\n",
    "save(users, f'{BASE_PATH}/users.csv')\n",
    "save(comments, f'{BASE_PATH}/comments.csv')"
   ]
  }
 ],
 "metadata": {
  "interpreter": {
   "hash": "945d9b4b4e821cdfb190d8b9764f998578a4b0e911ae9f184bb6b843a583816f"
  },
  "kernelspec": {
   "display_name": "Python 3.9.10 64-bit (windows store)",
   "language": "python",
   "name": "python3"
  },
  "language_info": {
   "codemirror_mode": {
    "name": "ipython",
    "version": 3
   },
   "file_extension": ".py",
   "mimetype": "text/x-python",
   "name": "python",
   "nbconvert_exporter": "python",
   "pygments_lexer": "ipython3",
   "version": "3.9.10"
  },
  "orig_nbformat": 4
 },
 "nbformat": 4,
 "nbformat_minor": 2
}
